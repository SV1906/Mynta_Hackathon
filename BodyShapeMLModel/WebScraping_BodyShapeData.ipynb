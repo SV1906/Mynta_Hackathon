{
  "nbformat": 4,
  "nbformat_minor": 0,
  "metadata": {
    "colab": {
      "name": "WebScraping-BodyShapeData",
      "provenance": []
    },
    "kernelspec": {
      "name": "python3",
      "display_name": "Python 3"
    }
  },
  "cells": [
    {
      "cell_type": "code",
      "metadata": {
        "id": "XkZ5O8KNdLpD"
      },
      "source": [
        ""
      ],
      "execution_count": null,
      "outputs": []
    },
    {
      "cell_type": "code",
      "metadata": {
        "colab": {
          "base_uri": "https://localhost:8080/"
        },
        "id": "RgPUvWv4b6d2",
        "outputId": "aeefd7f2-6509-488d-9d9e-9ae04691ce59"
      },
      "source": [
        "pip install bs4 selenium"
      ],
      "execution_count": null,
      "outputs": [
        {
          "output_type": "stream",
          "text": [
            "Requirement already satisfied: bs4 in /usr/local/lib/python3.7/dist-packages (0.0.1)\n",
            "Requirement already satisfied: selenium in /usr/local/lib/python3.7/dist-packages (3.141.0)\n",
            "Requirement already satisfied: beautifulsoup4 in /usr/local/lib/python3.7/dist-packages (from bs4) (4.6.3)\n",
            "Requirement already satisfied: urllib3 in /usr/local/lib/python3.7/dist-packages (from selenium) (1.24.3)\n"
          ],
          "name": "stdout"
        }
      ]
    },
    {
      "cell_type": "code",
      "metadata": {
        "id": "6zMMjdwVb-VA"
      },
      "source": [
        "import bs4\n",
        "import requests\n",
        "import csv"
      ],
      "execution_count": null,
      "outputs": []
    },
    {
      "cell_type": "code",
      "metadata": {
        "id": "ZhkUwijOcG4g"
      },
      "source": [
        "dropboxlist = ('http://www.bodymeasurements.org/paula-abdul/','http://www.bodymeasurements.org/lauren-alaina/')\n",
        "header = {'User-Agent': 'Mozilla/5.0 (Windows NT 10.0; Win64; x64) AppleWebKit/537.36 (KHTML, like Gecko) Chrome/89.0.4389.82 Safari/537.36'}\n",
        "filename = 'BodyMeasurementURLS.csv'\n",
        "with open(filename, 'w', newline='') as f:\n",
        "    w = csv.DictWriter(f,['Name','Body Shape','Dress size','Breast','Waist','Hips','Shoe/Feet','Bra size','Cup size','Height','Weight'])\n",
        "    w.writeheader()\n",
        "    for url in dropboxlist: \n",
        "      req = requests.get(url, headers= header)\n",
        "      soup = bs4.BeautifulSoup(req.text, 'html.parser')\n",
        "      product = soup.findAll('table', 'tabulka')\n",
        "      paragraphs = []\n",
        "      for x in product:\n",
        "        paragraphs.append(str(x))\n",
        "      listToStr = ' '.join(map(str, paragraphs)) \n",
        "      for x in product:\n",
        "       quote = {} \n",
        "       quotes=[]\n",
        "       quote['Name'] = listToStr[listToStr.find('<strong>')+len('<strong>'):listToStr.find('</strong>')]\n",
        "       quote['Body Shape'] = listToStr[listToStr.find('Body shape:')+len('Body shape:</td>\\n<td>'):listToStr.find(' (<a href=\"/female-body-shapes/\"')]\n",
        "         # quote['Dress size'] = listToStr[listToStr.find('Dress size:')+len('Dress size:</td>\\n<td>'):listToStr.find(' (<a href=\"/dress-size-chart/\" title=\"Dress size chart\">chart</a>)')]\n",
        "       if (listToStr.find('Dress size chart') == -1) :\n",
        "        quote['Dress size'] = listToStr[listToStr.find('Dress size:')+len('Dress size:</td>\\n<td>'):listToStr.find('</td>\\n</tr>\\n<tr>\\n<td>Breasts-')]\n",
        "       else :\n",
        "        quote['Dress size'] = listToStr[listToStr.find('Dress size:')+len('Dress size:</td>\\n<td>'):listToStr.find(' (<a href=\"/dress-size-chart/\" title=\"Dress size chart\">chart</a>)')]\n",
        "       Three = listToStr[listToStr.find('inches (')+len('inches ('):listToStr.find(' cm)</td>\\n</tr>\\n<tr class=\"under\">\\n<td>Shoe/Feet:')]\n",
        "       Three= Three.split('-')\n",
        "       quote['Breast'] = Three[0]\n",
        "       quote['Waist'] = Three[1]\n",
        "       quote['Hips'] = Three[2]\n",
        "       quote['Shoe/Feet'] = listToStr[listToStr.find('Shoe/Feet:')+len('Shoe/Feet:</td>\\n<td>'):listToStr.find('</td>\\n</tr>\\n<tr>\\n<td>Bra size:')]\n",
        "       quote['Bra size'] = listToStr[listToStr.find('Bra size:')+len('Bra size:</td>\\n<td>'):listToStr.find('</td>\\n</tr>\\n<tr class=\"under\">\\n<td>Cup size:')]\n",
        "       quote['Cup size'] = listToStr[listToStr.find('Cup size:')+len('Cup size:</td>\\n<td>'):listToStr.find('</td>\\n</tr>\\n<tr>\\n<td>Height:')]\n",
        "       Height = listToStr[listToStr.find('Height:')+len('Height:</td>\\n<td>'):listToStr.find('</td>\\n</tr>\\n<tr class=\"under\">\\n<td>Weight:</td')]\n",
        "       Weight = listToStr[listToStr.find('Weight:')+len('Weight:</td>\\n<td>'):listToStr.find('</td>\\n</tr>\\n<tr>\\n<td>Natural breasts or implants?</td>\\n<td>Natural (<a href=\"http://www')]\n",
        "       quote['Height'] = Height[Height.find('(')+1:Height.find(' cm)')]\n",
        "       quote['Weight'] = Weight[Weight.find('(')+1 :Weight.find(' kg') ]\n",
        "       quotes.append(quote) \n",
        "       #  print(quote)\n",
        "       for x in quotes:\n",
        "            w.writerow(x)\n"
      ],
      "execution_count": null,
      "outputs": []
    },
    {
      "cell_type": "code",
      "metadata": {
        "id": "4oHPwYTScnzD"
      },
      "source": [
        ""
      ],
      "execution_count": null,
      "outputs": []
    }
  ]
}